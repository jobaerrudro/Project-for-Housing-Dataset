{
 "cells": [
  {
   "cell_type": "code",
   "execution_count": null,
   "id": "324a325d-3f0d-4724-97ee-c09578e76d4a",
   "metadata": {},
   "outputs": [
    {
     "name": "stdout",
     "output_type": "stream",
     "text": [
      "MAIN MENU\n",
      "1. Dataset Operation\n",
      "2. File Operation\n",
      "3. EXIT\n"
     ]
    },
    {
     "name": "stdin",
     "output_type": "stream",
     "text": [
      "\n",
      "Enter choice(1, 2 or 3):  1\n"
     ]
    },
    {
     "name": "stdout",
     "output_type": "stream",
     "text": [
      "\n",
      "Thank you for choosing Dataset operation\n"
     ]
    },
    {
     "name": "stdin",
     "output_type": "stream",
     "text": [
      "Choice(1-> print Dataset,2->Print 5 Rows, 3->Exit, 4->Data Types, 5->Last5,6-> Column,7-> Describe,,8-> mean,9-> median,,10-> mode,11-> dropduplicate,12-> fillmissing,13-> nullvalues,14-> hist,15-> info,16-> scatterplot,17-> lineplot,18 -> Value Counts (Single Column),19 -> Filter Rows (Condition),20-> html):  20\n"
     ]
    },
    {
     "name": "stdout",
     "output_type": "stream",
     "text": [
      "\n"
     ]
    },
    {
     "name": "stdin",
     "output_type": "stream",
     "text": [
      "Choice(1-> print Dataset,2->Print 5 Rows, 3->Exit, 4->Data Types, 5->Last5,6-> Column,7-> Describe,,8-> mean,9-> median,,10-> mode,11-> dropduplicate,12-> fillmissing,13-> nullvalues,14-> hist,15-> info,16-> scatterplot,17-> lineplot,18 -> Value Counts (Single Column),19 -> Filter Rows (Condition),20-> html):  20\n"
     ]
    },
    {
     "name": "stdout",
     "output_type": "stream",
     "text": [
      "\n"
     ]
    },
    {
     "name": "stdin",
     "output_type": "stream",
     "text": [
      "Choice(1-> print Dataset,2->Print 5 Rows, 3->Exit, 4->Data Types, 5->Last5,6-> Column,7-> Describe,,8-> mean,9-> median,,10-> mode,11-> dropduplicate,12-> fillmissing,13-> nullvalues,14-> hist,15-> info,16-> scatterplot,17-> lineplot,18 -> Value Counts (Single Column),19 -> Filter Rows (Condition),20-> html):  19\n"
     ]
    },
    {
     "name": "stdout",
     "output_type": "stream",
     "text": [
      "\n"
     ]
    },
    {
     "name": "stdin",
     "output_type": "stream",
     "text": [
      "Enter the condition (e.g., population > 1000):  18\n"
     ]
    },
    {
     "name": "stdout",
     "output_type": "stream",
     "text": [
      "longitude              -122.26\n",
      "latitude                 37.84\n",
      "housing_median_age        50.0\n",
      "total_rooms             2239.0\n",
      "total_bedrooms           455.0\n",
      "population               990.0\n",
      "households               419.0\n",
      "median_income           1.9911\n",
      "median_house_value    158700.0\n",
      "ocean_proximity       NEAR BAY\n",
      "Name: 18, dtype: object\n"
     ]
    },
    {
     "name": "stdin",
     "output_type": "stream",
     "text": [
      "Choice(1-> print Dataset,2->Print 5 Rows, 3->Exit, 4->Data Types, 5->Last5,6-> Column,7-> Describe,,8-> mean,9-> median,,10-> mode,11-> dropduplicate,12-> fillmissing,13-> nullvalues,14-> hist,15-> info,16-> scatterplot,17-> lineplot,18 -> Value Counts (Single Column),19 -> Filter Rows (Condition),20-> html):  18\n"
     ]
    },
    {
     "name": "stdout",
     "output_type": "stream",
     "text": [
      "\n"
     ]
    },
    {
     "name": "stdin",
     "output_type": "stream",
     "text": [
      "Enter the column name for value counts:  population\n"
     ]
    },
    {
     "name": "stdout",
     "output_type": "stream",
     "text": [
      "population\n",
      "891.0     25\n",
      "761.0     24\n",
      "1227.0    24\n",
      "1052.0    24\n",
      "850.0     24\n",
      "          ..\n",
      "2141.0     1\n",
      "5546.0     1\n",
      "3186.0     1\n",
      "3590.0     1\n",
      "6912.0     1\n",
      "Name: count, Length: 3888, dtype: int64\n"
     ]
    }
   ],
   "source": [
    "from math import nan\n",
    "import pandas as pd\n",
    "import seaborn as sns\n",
    "import matplotlib.pyplot as plt\n",
    "import sweetviz as sv\n",
    "def main_menu():\n",
    "    print(\"MAIN MENU\")\n",
    "    print(\"1. Dataset Operation\")\n",
    "    print(\"2. File Operation\")\n",
    "    print(\"3. EXIT\")\n",
    "\n",
    "\n",
    "def main():\n",
    "    while (True):\n",
    "        main_menu()\n",
    "        choice = input('\\nEnter choice(1, 2 or 3): ')\n",
    "        if choice == '1':\n",
    "           print(\"\\nThank you for choosing Dataset operation\")\n",
    "           while True:\n",
    "               rchoice = input('Choice(1-> print Dataset,2->Print 5 Rows, 3->Exit, 4->Data Types, 5->Last5,6-> Column,7-> Describe,,8-> mean,9-> median,,10-> mode,11-> dropduplicate,12-> fillmissing,13-> nullvalues,14-> hist,15-> info,16-> scatterplot,17-> lineplot,18 -> Value Counts (Single Column),19 -> Filter Rows (Condition),20-> html): ')\n",
    "               dataSet = pd.read_csv(r'D:\\Py-6\\Housing.csv', header=0, sep=\",\")\n",
    "               print()\n",
    "               if rchoice == '1':\n",
    "                   print(dataSet)\n",
    "               if rchoice == '2':\n",
    "                   print(dataSet.head())\n",
    "               if rchoice == '4':\n",
    "                   print(dataSet.dtypes)\n",
    "               if rchoice == '5':\n",
    "                   print(dataSet.tail())\n",
    "               if rchoice == '6':\n",
    "                   print(dataSet.columns)\n",
    "               if rchoice == '7':\n",
    "                   print(dataSet.describe())\n",
    "               if rchoice == '8':\n",
    "                   print(dataSet[\"population\"].mean())\n",
    "               if rchoice == '9':\n",
    "                   print(dataSet[\"population\"].median())\n",
    "               if rchoice == '10':\n",
    "                   print(dataSet[\"population\"].mode())\n",
    "               if rchoice == '11':\n",
    "                   print(dataSet.drop_duplicates())\n",
    "               if rchoice == '12':\n",
    "                   print(dataSet.fillna(0))\n",
    "               if rchoice == '13':\n",
    "                   print(dataSet.isnull().sum())\n",
    "               if rchoice == '14':\n",
    "                   sns.histplot(x='total_rooms',data=dataSet) \n",
    "                   plt.show()\n",
    "               if rchoice == '15':\n",
    "                   print(dataSet.info())\n",
    "               if rchoice == '16':\n",
    "                    sns.scatterplot(x='households', y='median_income', data=dataSet)\n",
    "                    plt.show()\n",
    "               if rchoice == '17':\n",
    "                    sns.lineplot(x= dataSet.index, y='median_income', data=dataSet)\n",
    "                    plt.show()\n",
    "               if rchoice == '21':\n",
    "                   report = sv.analyze(dataSet)\n",
    "                   report.show_html('report3.html')\n",
    "               if rchoice == '18':\n",
    "                    column = input(\"Enter the column name for value counts: \")\n",
    "                    if column in dataSet.columns:\n",
    "                        print(dataSet[column].value_counts())\n",
    "                    else:\n",
    "                        print(\"Column not found!\")\n",
    "               if rchoice == '19':\n",
    "                    condition = input(\"Enter the condition (e.g., population > 1000): \")\n",
    "                    try:\n",
    "                        filtered_data = dataSet.query(condition)\n",
    "                        print(filtered_data)\n",
    "                    except Exception as e:\n",
    "                        print(\"Error in filtering rows:\", e)\n",
    "               elif rchoice == '3':\n",
    "                   print('\\nInvalid input !!!')\n",
    "                \n",
    "                   break\n",
    "\n",
    "        elif choice == '2':\n",
    "            print('\\nThank you for choosing File operation.')\n",
    "        elif choice == '3':\n",
    "            print('\\nThanks for using Switch Statements')\n",
    "            break\n",
    "        else:\n",
    "            print('\\nInvalid input!!!')\n",
    "\n",
    "\n",
    "main()\n",
    "report = sv.analyze(data)\n",
    "report.show_html('report3.html')"
   ]
  },
  {
   "cell_type": "code",
   "execution_count": null,
   "id": "b655cea2-7fa7-4ca9-bda9-b8469bab2c4c",
   "metadata": {},
   "outputs": [],
   "source": []
  }
 ],
 "metadata": {
  "kernelspec": {
   "display_name": "Python 3 (ipykernel)",
   "language": "python",
   "name": "python3"
  },
  "language_info": {
   "codemirror_mode": {
    "name": "ipython",
    "version": 3
   },
   "file_extension": ".py",
   "mimetype": "text/x-python",
   "name": "python",
   "nbconvert_exporter": "python",
   "pygments_lexer": "ipython3",
   "version": "3.12.4"
  }
 },
 "nbformat": 4,
 "nbformat_minor": 5
}
